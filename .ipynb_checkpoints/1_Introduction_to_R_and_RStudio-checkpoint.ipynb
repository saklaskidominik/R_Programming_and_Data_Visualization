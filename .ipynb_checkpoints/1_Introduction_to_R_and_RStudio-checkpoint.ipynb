{
 "cells": [
  {
   "cell_type": "markdown",
   "id": "2350d66f-edee-4c40-944e-15490fba44cc",
   "metadata": {},
   "source": [
    "<h2 style=\"text-align: center;\">Task Set 1</h2>\n",
    "<h1 style=\"text-align: center;\">Introduction to R and RStudio</h1>\n"
   ]
  },
  {
   "cell_type": "markdown",
   "id": "4d0ec4d8-89d5-4836-94fd-750d70e7e48e",
   "metadata": {},
   "source": [
    "#### Wczytanie potrzebnych pakietów"
   ]
  },
  {
   "cell_type": "code",
   "execution_count": null,
   "id": "93f1a411-baa3-4bac-8660-cd9641810cd1",
   "metadata": {},
   "outputs": [],
   "source": []
  },
  {
   "cell_type": "markdown",
   "id": "f8cb74ed-ba0f-4ec5-a9ca-85a86aafb721",
   "metadata": {},
   "source": [
    "## Zadanie 1\n",
    "\n",
    "Właściciel małej kawiarni chce dokładniej przeanalizować wyniki sprzedaży różnych produktów w ciągu ostatniego tygodnia. Udało się zebrać dane dotyczące sprzedaży różnych rodzajów kawy oraz ciast. Twoim zadaniem jest pomóc właścicielowi w analizie tych danych za pomocą języka R.\n",
    "\n",
    "### Dane:\n",
    "#### Kawy:\n",
    "- Espresso, Latte, Cappuccino, Mocca, Americano\n",
    "- Ilość sprzedanych kaw w ciągu tygodnia: 250, 350, 200, 100, 150\n",
    "\n",
    "#### Ciastka:\n",
    "- Croissant, Brownie, Tarta jagodowa, Karmelowe, Sernik\n",
    "- Ilość sprzedanych ciastek w ciągu tygodnia: 50, 40, 70, 60, 55\n",
    "\n",
    "### Zadania do wykonania:\n",
    "1. Oblicz sumę sprzedaży kaw\n",
    "2. Sprawdź, ile kaw typu \"Mocca\" zostało sprzedanych.\n",
    "3. Znajdź ciastko, które cieszyło się najmniejszą popularnością.\n",
    "4. Czy więcej sprzedano kaw typu \"Latte\", czy ciastek \"Brownie\"?\n",
    "5. Jakie były łączne przychody z kawy \"Americano\", jeżeli jej cena wynosiła 12 zł za sztukę?\n"
   ]
  },
  {
   "cell_type": "code",
   "execution_count": 1,
   "id": "1b375ecb-2149-414a-80de-eb9942cc5602",
   "metadata": {},
   "outputs": [
    {
     "name": "stdout",
     "output_type": "stream",
     "text": [
      "Suma sprzedanych kaw w tygodniu: 1050 \n",
      "Ilość sprzedanych kaw 'Mocca': 100 \n",
      "Ciastko z najmniejszą popularnością: Brownie \n",
      "Więcej sprzedano: Latte \n",
      "Łączne przychody z kawy 'Americano': 1800 zł \n"
     ]
    }
   ],
   "source": [
    "# Tworzenie wektorów:\n",
    "kawy <- c(\"Espresso\", \"Latte\", \"Cappuccino\", \"Mocca\", \"Americano\")\n",
    "ilosc_kaw <- c(250, 350, 200, 100, 150)\n",
    "\n",
    "ciastka <- c(\"Croissant\", \"Brownie\", \"Tarta jagodowa\", \"Karmelowe\", \"Sernik\")\n",
    "ilosc_ciastek <- c(50, 40, 70, 60, 55)\n",
    "\n",
    "# 1. Oblicz sumę sprzedaży kaw\n",
    "suma_kaw <- sum(ilosc_kaw)\n",
    "cat(\"Suma sprzedanych kaw w tygodniu:\", suma_kaw, \"\\n\")\n",
    "\n",
    "# 2. Sprawdź, ile kaw typu \"Mocca\" zostało sprzedanych.\n",
    "ilosc_mocca <- ilosc_kaw[which(kawy == \"Mocca\")]\n",
    "cat(\"Ilość sprzedanych kaw 'Mocca':\", ilosc_mocca, \"\\n\")\n",
    "\n",
    "# 3. Znajdź ciastko, które cieszyło się najmniejszą popularnością.\n",
    "najmniej_popularne_ciastko <- ciastka[which.min(ilosc_ciastek)]\n",
    "cat(\"Ciastko z najmniejszą popularnością:\", najmniej_popularne_ciastko, \"\\n\")\n",
    "\n",
    "# 4. Czy więcej sprzedano kaw typu \"Latte\", czy ciastek \"Brownie\"?\n",
    "porownanie_latte_brownie <- ifelse(ilosc_kaw[which(kawy == \"Latte\")] > ilosc_ciastek[which(ciastka == \"Brownie\")], \"Latte\", \"Brownie\")\n",
    "cat(\"Więcej sprzedano:\", porownanie_latte_brownie, \"\\n\")\n",
    "\n",
    "# 5. Jakie były łączne przychody z kawy \"Americano\", jeżeli jej cena wynosiła 12 zł za sztukę?\n",
    "przychody_americano <- ilosc_kaw[which(kawy == \"Americano\")] * 12\n",
    "cat(\"Łączne przychody z kawy 'Americano':\", przychody_americano, \"zł\", \"\\n\")\n"
   ]
  },
  {
   "cell_type": "markdown",
   "id": "700f5554-b6b2-477d-9d9b-a5b6a32f4088",
   "metadata": {},
   "source": [
    "## Zadanie 2\n",
    "\n",
    "1. Utwórz zmienne:\n",
    "   - `zmienna_numeric <- 42`\n",
    "   - `zmienna_character <- \"data science\"`\n",
    "   - `zmienna_logical <- FALSE`\n",
    "\n",
    "2. Sprawdź typ zmiennych z powyższego punktu\n",
    "\n",
    "3. Utwórz wektor z ciągami znaków \"5\", \"8\", \"10\", \"12\". Konwertuj go na wektor numeryczny, a następnie sprawdź jego klasę.\n",
    "\n",
    "4. Utwórz wektor `x3 <- c(5, 8, NA, 91, 3, NA, 14, 30, 100)` a następnie wykonaj operacje:\n",
    "   - `sum(x3)`\n",
    "   - `mean(x3)`\n",
    "   - `mean(x3, na.rm=TRUE)`\n"
   ]
  },
  {
   "cell_type": "code",
   "execution_count": 2,
   "id": "f6a8f8f9-f9e9-42ef-a067-a8e9482a5f76",
   "metadata": {},
   "outputs": [
    {
     "name": "stdout",
     "output_type": "stream",
     "text": [
      "Typ zmiennej zmienna_numeric: numeric \n",
      "Typ zmiennej zmienna_character: character \n",
      "Typ zmiennej zmienna_logical: logical \n",
      "Klasa skonwertowanego wektora: numeric \n",
      "Suma elementów wektora x3 z NA: NA \n",
      "Średnia elementów wektora x3 z NA: NA \n",
      "Średnia elementów wektora x3 bez NA: 35.85714 \n"
     ]
    }
   ],
   "source": [
    "# 1. Utwórz zmienne:\n",
    "zmienna_numeric <- 42\n",
    "zmienna_character <- \"data science\"\n",
    "zmienna_logical <- FALSE\n",
    "\n",
    "# 2. Sprawdź typ zmiennych z powyższego punktu\n",
    "cat(\"Typ zmiennej zmienna_numeric:\", class(zmienna_numeric), \"\\n\")  # \"numeric\"\n",
    "cat(\"Typ zmiennej zmienna_character:\", class(zmienna_character), \"\\n\")  # \"character\"\n",
    "cat(\"Typ zmiennej zmienna_logical:\", class(zmienna_logical), \"\\n\")  # \"logical\"\n",
    "\n",
    "# 3. Utwórz wektor z ciągami znaków \"5\", \"8\", \"10\", \"12\". Konwertuj go na wektor numeryczny, \n",
    "# a następnie sprawdź jego klasę.\n",
    "wektor <- c(\"5\", \"8\", \"10\", \"12\")\n",
    "wektor <- as.numeric(wektor)\n",
    "cat(\"Klasa skonwertowanego wektora:\", class(wektor), \"\\n\")  # \"numeric\"\n",
    "\n",
    "# 4. Utwórz wektor x3 <- c(5, 8, NA, 91, 3, NA, 14, 30, 100) a następnie wykonaj operacje:\n",
    "x3 <- c(5, 8, NA, 91, 3, NA, 14, 30, 100)\n",
    "\n",
    "# sum(x3)\n",
    "cat(\"Suma elementów wektora x3 z NA:\", sum(x3), \"\\n\") \n",
    "\n",
    "# mean(x3)\n",
    "cat(\"Średnia elementów wektora x3 z NA:\", mean(x3), \"\\n\") \n",
    "\n",
    "# mean(x3, na.rm=TRUE)\n",
    "cat(\"Średnia elementów wektora x3 bez NA:\", mean(x3, na.rm=TRUE), \"\\n\") \n"
   ]
  },
  {
   "cell_type": "markdown",
   "id": "8c1cbe8b-0a02-4fce-a4ac-afb7b4214f95",
   "metadata": {},
   "source": [
    "## Zadanie 3\n",
    "\n",
    "1. Utworzenie zmiennych:\n",
    "   - Utwórz zmienną `srednia_ocena` o wartości 8.5 (gdzie 10 to maksymalna ocena).\n",
    "   - Utwórz zmienną `nazwa_filmu` i przypisz jej wartość \"Przygody Gwiazd\".\n",
    "   - Utwórz zmienną `film_dokumentalny` i przypisz jej wartość FALSE.\n",
    "\n",
    "2. Sprawdź typ zmiennych z powyższego punktu.\n",
    "\n",
    "3. Konwersja typów:\n",
    "   - Masz wektor z ocenami filmów jako ciągi znaków: `oceny_filmow <- c(\"7.5\", \"8\", \"9.5\", \"7\")`. Konwertuj go na wektor numeryczny i sprawdź jego klasę.\n",
    "\n",
    "4. Analiza danych:\n",
    "   - Utwórz wektor `liczba_widzow` o wartościach: (500, 800, NA, 1500, 300, NA, 700, 1200, 2000).\n",
    "   - Policz sumę widzów i średnią ilość widzów na seans.\n",
    "   - Wylicz średnią ilość widzów na seans, pomijając brakujące dane.\n",
    "\n",
    "5. Przypisywanie nazw wektorom:\n",
    "   - Utwórz wektor `filmy` z następującymi gatunkami: \"Akcja\", \"Romans\", \"Komedia\", \"Horror\", \"Dokument\".\n",
    "\n",
    "6. Przypisz nazwy z wektora `filmy` do wektora `liczba_widzow`.\n",
    "   - Wybierz liczbę widzów na seanse filmów \"Romans\" i \"Horror\".\n",
    "\n",
    "7. Porównania logiczne:\n",
    "   - Sprawdź, które filmy miały powyżej 1000 widzów.\n",
    "   - Oblicz, ile filmów miało więcej niż 1000 widzów.\n",
    "   - Czy średnia ocena jest większa niż 8 i czy film \"Przygody Gwiazd\" to film dokumentalny? (Wykorzystaj &).\n"
   ]
  },
  {
   "cell_type": "code",
   "execution_count": 3,
   "id": "468d3c54-3059-44dd-850c-57ee6683a1c4",
   "metadata": {},
   "outputs": [
    {
     "name": "stdout",
     "output_type": "stream",
     "text": [
      "Typ zmiennej srednia_ocena:  numeric \n",
      "Typ zmiennej nazwa_filmu:  character \n",
      "Typ zmiennej film_dokumentalny:  logical \n",
      "Klasa wektora oceny_filmow przed konwersją:  character \n",
      "Klasa wektora oceny_filmow po konwersji:  numeric \n",
      "Suma widzów:  7000 \n",
      "Średnia liczba widzów (z NA):  NA \n",
      "Średnia liczba widzów (bez NA):  1000 \n",
      "Liczba widzów po przypisaniu nazw:  \n",
      "   Akcja   Romans  Komedia   Horror Dokument     <NA>     <NA>     <NA> \n",
      "     500      800       NA     1500      300       NA      700     1200 \n",
      "    <NA> \n",
      "    2000 \n",
      "Liczba widzów na filmy Romans i Horror:  \n",
      "Romans Horror \n",
      "   800   1500 \n",
      "Filmy z widownią powyżej 1000 widzów:  \n",
      "   Akcja   Romans  Komedia   Horror Dokument     <NA>     <NA>     <NA> \n",
      "   FALSE    FALSE       NA     TRUE    FALSE       NA    FALSE     TRUE \n",
      "    <NA> \n",
      "    TRUE \n",
      "Liczba filmów z widownią powyżej 1000 widzów:  3 \n",
      "Czy średnia ocena jest większa niż 8 i czy film 'Przygody Gwiazd' to film dokumentalny?  FALSE \n"
     ]
    }
   ],
   "source": [
    "# 1. Utworzenie zmiennych:\n",
    "srednia_ocena <- 8.5\n",
    "nazwa_filmu <- \"Przygody Gwiazd\"\n",
    "film_dokumentalny <- FALSE\n",
    "\n",
    "# Sprawdź typy:\n",
    "cat(\"Typ zmiennej srednia_ocena: \", class(srednia_ocena), \"\\n\")\n",
    "cat(\"Typ zmiennej nazwa_filmu: \", class(nazwa_filmu), \"\\n\")\n",
    "cat(\"Typ zmiennej film_dokumentalny: \", class(film_dokumentalny), \"\\n\")\n",
    "\n",
    "# 2. Konwersja typów:\n",
    "oceny_filmow <- c(\"7.5\", \"8\", \"9.5\", \"7\")\n",
    "cat(\"Klasa wektora oceny_filmow przed konwersją: \", class(oceny_filmow), \"\\n\")\n",
    "oceny_filmow <- as.numeric(oceny_filmow)\n",
    "cat(\"Klasa wektora oceny_filmow po konwersji: \", class(oceny_filmow), \"\\n\")\n",
    "\n",
    "# 3. Analiza danych:\n",
    "liczba_widzow <- c(500, 800, NA, 1500, 300, NA, 700, 1200, 2000)\n",
    "cat(\"Suma widzów: \", sum(liczba_widzow, na.rm = TRUE), \"\\n\")\n",
    "cat(\"Średnia liczba widzów (z NA): \", mean(liczba_widzow), \"\\n\")\n",
    "cat(\"Średnia liczba widzów (bez NA): \", mean(liczba_widzow, na.rm = TRUE), \"\\n\")\n",
    "\n",
    "# 4. Przypisywanie nazw wektorom:\n",
    "filmy <- c(\"Akcja\", \"Romans\", \"Komedia\", \"Horror\", \"Dokument\")\n",
    "names(liczba_widzow) <- filmy\n",
    "cat(\"Liczba widzów po przypisaniu nazw: \", \"\\n\")\n",
    "print(liczba_widzow)\n",
    "\n",
    "# 5. Wybór liczby widzów na seanse filmów \"Romans\" i \"Horror\":\n",
    "filmy_romans_horror <- liczba_widzow[c(\"Romans\", \"Horror\")]\n",
    "cat(\"Liczba widzów na filmy Romans i Horror: \", \"\\n\")\n",
    "print(filmy_romans_horror)\n",
    "\n",
    "# 6. Porównania logiczne:\n",
    "cat(\"Filmy z widownią powyżej 1000 widzów: \", \"\\n\")\n",
    "print(liczba_widzow > 1000)\n",
    "\n",
    "ponad_1000_widzow <- sum(liczba_widzow > 1000, na.rm = TRUE)\n",
    "cat(\"Liczba filmów z widownią powyżej 1000 widzów: \", ponad_1000_widzow, \"\\n\")\n",
    "\n",
    "# 7. Czy średnia ocena jest większa niż 8 i czy film \"Przygody Gwiazd\" to film dokumentalny?\n",
    "wynik_logiczny <- mean(srednia_ocena) > 8 & film_dokumentalny\n",
    "cat(\"Czy średnia ocena jest większa niż 8 i czy film 'Przygody Gwiazd' to film dokumentalny? \", wynik_logiczny, \"\\n\")\n"
   ]
  }
 ],
 "metadata": {
  "kernelspec": {
   "display_name": "R",
   "language": "R",
   "name": "ir"
  },
  "language_info": {
   "codemirror_mode": "r",
   "file_extension": ".r",
   "mimetype": "text/x-r-source",
   "name": "R",
   "pygments_lexer": "r",
   "version": "4.4.2"
  }
 },
 "nbformat": 4,
 "nbformat_minor": 5
}
