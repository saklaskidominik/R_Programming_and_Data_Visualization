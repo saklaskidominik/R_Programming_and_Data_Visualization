{
 "cells": [
  {
   "cell_type": "markdown",
   "id": "54f49104-9e28-4788-a41e-70f33fa48499",
   "metadata": {},
   "source": [
    "<h2 style=\"text-align: center;\">Task Set 4</h2>\n",
    "<h1 style=\"text-align: center;\">R - Basics of the Language - part 2</h1>\n"
   ]
  },
  {
   "cell_type": "markdown",
   "id": "4c826062-b85f-4347-b889-eb0a211ba0d4",
   "metadata": {},
   "source": [
    "#### Wczytanie potrzebnych pakietów"
   ]
  },
  {
   "cell_type": "code",
   "execution_count": 1,
   "id": "bfd6144c-3f60-47fb-958b-19d071d763a7",
   "metadata": {},
   "outputs": [],
   "source": [
    "library(nycflights13)"
   ]
  },
  {
   "cell_type": "markdown",
   "id": "2e49bb08-5399-4fe0-a18b-aab40e57a43b",
   "metadata": {},
   "source": [
    "## Zadanie 1\n",
    "\n",
    "Utwórz wektor `exerdf` zawierający 200 obserwacji z rozkładu normalnego o wartości średniej wynoszącej 5 i odchyleniu standardowym wynoszącym 10. Ustaw ziarno losowe na 12. Dla utworzonej zmiennej wykonaj poniższe podpunkty:\n",
    "\n",
    "1. Wypisz wszystkie wartości ujemne,\n",
    "2. Policz ile wartości jest nieujemnych,\n",
    "3. Wyznacz wartość średnią wszystkich wartości,\n",
    "4. Wyznacz wartość średnią arytmetyczną wartości bezwzględnych elementów,\n",
    "5. Wypisz na ekran wektor powstały w wyniku przekształcenia z `exerdf` do przedziału [0,1],\n",
    "6. Zapisz `exerdf` jako nowy wektor liczb całkowitych `exercint`,\n",
    "7. Wykonaj podzbiór danych składający się z 50 obserwacji, zastosuj metodę ze zwracaniem,\n",
    "8. Utwórz wektor składający się z mediany, minimum, odchylenia standardowego i maksimum.\n"
   ]
  },
  {
   "cell_type": "code",
   "execution_count": 2,
   "id": "1f041f7d-5053-408c-a40f-50aebdfbb211",
   "metadata": {},
   "outputs": [
    {
     "name": "stdout",
     "output_type": "stream",
     "text": [
      "Wartości ujemne w wektorze exerdf:\n",
      " -9.805676 -4.567445 -4.200052 -14.97642 -1.282552 -2.777196 -7.938823 -2.795665 -2.034643 -5.252448 -0.4102865 -5.704922 -5.044512 -6.559929 -10.95626 -4.770533 -5.508901 -8.142728 -16.4926 -0.2540063 -1.338382 -7.710538 -7.740596 -0.4188886 -4.633983 -4.846738 -1.947379 -5.07299 -0.5145776 -6.692355 -0.2767503 -0.2452558 -6.82414 -8.547085 -9.30479 -7.996691 -13.3347 -2.353789 -7.628205 -1.994784 -7.953113 -3.970599 -13.84776 -4.074167 -11.47562 -0.1526323 -15.50134 -11.86741 -12.70193 -0.6052043 -0.08129562 -4.388331 -1.528169 -1.115953 -0.1523396 -2.998041 -2.68471 -10.43153 -8.206009 -1.758215 -0.1387218 -4.59254 -9.404509 -3.688975 \n",
      "\n",
      "Ilość wartości nieujemnych w wektorze exerdf:  136 \n",
      "\n",
      "Średnia wartość wektora exerdf:  4.892623 \n",
      "\n",
      "Średnia arytmetyczna wartości bezwzględnych elementów wektora exerdf:  8.414796 \n",
      "\n",
      "Wektor exerdf przekształcony do przedziału [0,1]:\n",
      " 0.1561726 0.870305 0.2785112 0.2870916 0.03541026 0.4383636 0.4283087 0.3552296 0.4770936 0.6019207 0.3203223 0.1997729 0.319891 0.5047495 0.4663615 0.3376646 0.7796201 0.5814846 0.6203602 0.433457 0.5541895 0.9707387 0.7383052 0.431319 0.262513 0.4395106 0.4554572 0.5325818 0.5360096 0.5865181 0.659366 0.9858807 0.3756013 0.2519455 0.4149712 0.3886538 0.5661338 0.3899684 0.6883551 0.2673693 0.5264772 0.2319768 0.6369811 0.1293009 0.4299074 0.6069306 0.2737681 0.5463321 0.6727886 0.386912 0.4919892 0.475644 0.6086499 0.973806 0.2565235 0.6735357 0.6278996 0.1950107 0.4435618 0.5753404 0.5969069 0.7342044 0.7018223 0.5479975 0.6968142 0.6997254 0.9583381 0 0.7287626 0.7693865 0.3792512 0.5604203 0.4016706 0.4593309 0.4778301 0.3539257 0.2051045 0.4122868 0.6226461 0.4603938 0.5029526 0.2044025 0.4547555 0.7739184 0.4964979 0.7114885 0.4606843 0.7620642 0.3754004 0.2769572 0.5898774 0.2719883 0.7115826 0.5321474 0.7433788 0.4220168 0.6075882 0.3397026 0.4461367 0.2667042 0.951942 0.5139697 0.9224693 0.3731656 0.5269617 0.6862576 0.4449125 0.5916831 0.228884 0.8565497 0.5190029 0.37872 0.3794556 0.6763963 0.2258062 0.185567 0.4523791 0.4810598 0.5619879 0.7832185 0.4613133 0.6631578 0.5985039 0.1678708 0.1984214 0.8297096 0.4507291 1 0.07375256 0.4761487 0.6807893 0.5775125 0.3302109 0.7695396 0.436976 0.7487827 0.5877909 0.6998946 0.2070273 0.6253275 0.7563884 0.3385955 0.8338379 0.8380407 0.1994391 0.2924505 0.06177003 0.5083803 0.2900317 0.1171713 0.560892 0.6519702 0.4209315 0.3816188 0.5949503 0.7246608 0.5627228 0.02315072 0.5692135 0.5864903 0.108021 0.7932338 0.08853086 0.5540013 0.371049 0.3832849 0.2826944 0.883963 0.3494933 0.6979559 0.3591205 0.4151439 0.3816256 0.4221384 0.6616869 0.6884105 0.3151645 0.5555882 0.8974851 0.3224823 0.1415559 0.1935328 0.3441205 0.4162443 0.3819437 0.2779251 0.4735437 0.6574873 0.7912603 0.7784667 0.8518995 0.4344381 0.951234 0.6230564 0.6132657 0.5726311 0.6937565 0.5936448 0.1655419 0.2990278 \n",
      "\n",
      "Wektor exerdf przekształcony do liczb całkowitych (exerdfint):\n",
      " -9 20 -4 -4 -14 2 1 -1 3 9 -2 -7 -2 5 3 -2 16 8 10 2 7 25 15 1 -5 2 3 6 6 8 11 25 0 -5 1 0 7 0 12 -5 6 -6 10 -10 1 9 -4 6 12 0 4 3 9 25 -5 12 10 -8 2 8 9 14 13 6 13 13 24 -16 14 16 0 7 0 3 3 -1 -7 1 10 3 5 -7 2 16 4 13 3 16 0 -4 8 -4 13 6 15 1 9 -1 2 -5 24 5 23 0 6 12 2 8 -6 20 5 0 0 12 -6 -8 2 4 7 17 3 11 9 -9 -7 19 2 26 -13 3 12 8 -2 16 2 15 8 13 -7 10 15 -1 19 19 -7 -3 -13 5 -4 -11 7 11 1 0 8 14 7 -15 7 8 -11 17 -12 7 0 0 -4 21 -1 13 -1 1 0 1 11 12 -2 7 21 -2 -10 -8 -1 1 0 -4 3 11 17 16 19 2 24 10 9 8 13 8 -9 -3 \n",
      "\n",
      "Podzbiór danych z 50 obserwacji, metoda ze zwracaniem:\n",
      " 13.97559 -0.08129562 4.573151 -9.404509 -0.1526323 7.5234 25.07201 13.34325 11.42314 -10.43153 13.34325 1.275433 25.72036 -12.70193 1.577107 0.1485865 7.5234 3.966895 8.142046 8.675144 1.577107 -2.68471 7.879707 12.98105 1.975408 -10.95626 12.31453 16.88879 9.280148 1.914963 24.23687 -9.30479 -9.805676 3.232755 12.98105 6.899979 9.133846 21.35649 1.160496 3.783363 -0.1526323 -4.770533 -13.84776 8.142046 8.026037 1.28283 -5.252448 6.899979 6.971289 -4.388331 \n",
      "\n",
      "Wektor zawierający medianę, minimum, odchylenie standardowe i maksimum exerdf:\n",
      " 4.03604 -16.4926 9.323812 26.32491 \n"
     ]
    }
   ],
   "source": [
    "# Utworzenie wektora exerdf z rozkładu normalnego\n",
    "set.seed(12)\n",
    "exerdf <- rnorm(200, mean = 5, sd = 10)\n",
    "\n",
    "# 1. Wypisz wszystkie wartości ujemne\n",
    "liczby_ujemne <- exerdf[exerdf < 0]\n",
    "cat(\"Wartości ujemne w wektorze exerdf:\\n\", liczby_ujemne, \"\\n\\n\")\n",
    "\n",
    "# 2. Policz ile wartości jest nieujemnych\n",
    "wartosci_nieujemne <- length(exerdf[exerdf >= 0])\n",
    "cat(\"Ilość wartości nieujemnych w wektorze exerdf: \", wartosci_nieujemne, \"\\n\\n\")\n",
    "\n",
    "# 3. Wyznacz wartość średnią wszystkich wartości\n",
    "wartosc_srednia <- mean(exerdf)\n",
    "cat(\"Średnia wartość wektora exerdf: \", wartosc_srednia, \"\\n\\n\")\n",
    "\n",
    "# 4. Wyznacz wartość średnią arytmetyczną wartości bezwzględnych elementów\n",
    "srednia_wart_bezw <- mean(abs(exerdf))\n",
    "cat(\"Średnia arytmetyczna wartości bezwzględnych elementów wektora exerdf: \", srednia_wart_bezw, \"\\n\\n\")\n",
    "\n",
    "# 5. Wypisz na ekran wektor powstały w wyniku przekształcenia z exerdf do przedziału [0,1]\n",
    "exerdf_przeksztalcony <- (exerdf - min(exerdf)) / (max(exerdf) - min(exerdf))\n",
    "cat(\"Wektor exerdf przekształcony do przedziału [0,1]:\\n\", exerdf_przeksztalcony, \"\\n\\n\")\n",
    "\n",
    "# 6. Zapisz exerdf jako nowy wektor liczb całkowitych exercint\n",
    "exerdfint <- as.integer(exerdf)\n",
    "cat(\"Wektor exerdf przekształcony do liczb całkowitych (exerdfint):\\n\", exerdfint, \"\\n\\n\")\n",
    "\n",
    "# 7. Wykonaj podzbiór danych składający się z 50 obserwacji, zastosuj metodę ze zwracaniem\n",
    "podzbior_danych <- sample(exerdf, size = 50, replace = TRUE)\n",
    "cat(\"Podzbiór danych z 50 obserwacji, metoda ze zwracaniem:\\n\", podzbior_danych, \"\\n\\n\")\n",
    "\n",
    "# 8. Utwórz wektor składający się z mediany, minimum, odchylenia standardowego i maksimum\n",
    "wektor <- c(median(exerdf), min(exerdf), sd(exerdf), max(exerdf))\n",
    "cat(\"Wektor zawierający medianę, minimum, odchylenie standardowe i maksimum exerdf:\\n\", wektor, \"\\n\")\n"
   ]
  },
  {
   "cell_type": "markdown",
   "id": "518994e7-ff96-4abb-ab2a-97f5bbe16e4a",
   "metadata": {},
   "source": [
    "## Zadanie 2\n",
    "\n",
    "1. Napisz funkcję zmieniającą odległość podaną w metrach na cale.\n",
    "\n",
    "2. Napisz funkcję odejmującą od wektora liczb wartość średnią i wyświetlającą nowo powstałą zmienną wraz ze zmienną pierwotną.\n"
   ]
  },
  {
   "cell_type": "code",
   "execution_count": 3,
   "id": "cec0c254-542f-4242-ab04-add436dd64f0",
   "metadata": {},
   "outputs": [
    {
     "name": "stdout",
     "output_type": "stream",
     "text": [
      "100 metrów to  3937  cali.\n",
      "Oryginalny wektor:\n",
      " [1] -0.6047565  2.6982251 20.5870831  5.7050839  6.2928774 22.1506499\n",
      " [7]  9.6091621 -7.6506123 -1.8685285  0.5433803\n",
      "Wektor po odjęciu średniej:\n",
      " [1]  -6.35101291  -3.04803134  14.84082670  -0.04117253   0.54662091\n",
      " [6]  16.40439343   3.86290562 -13.39686879  -7.61478496  -5.20287614\n"
     ]
    }
   ],
   "source": [
    "# 1. Napisz funkcję zmieniającą odległość podaną w metrach na cale.\n",
    "metry_na_cale <- function(m) {\n",
    "  cale <- m * 39.37\n",
    "  return(cale)\n",
    "}\n",
    "\n",
    "# Wywołanie funkcji i wyświetlenie wyniku przeliczenia 100 metrów na cale\n",
    "zamienione_na_cale <- metry_na_cale(100)\n",
    "cat(\"100 metrów to \", zamienione_na_cale, \" cali.\\n\")\n",
    "\n",
    "# 2. Napisz funkcję odejmującą od wektora liczb wartość średnią i wyświetlającą nowo powstałą zmienną wraz ze zmienną pierwotną.\n",
    "funkcja_odejmujaca_srednia <- function(w) {\n",
    "  srednia <- mean(w)\n",
    "  odejmowanie_sredniej <- w - srednia\n",
    "  cat(\"Oryginalny wektor:\\n\")\n",
    "  print(w)\n",
    "  cat(\"Wektor po odjęciu średniej:\\n\")\n",
    "  print(odejmowanie_sredniej)\n",
    "}\n",
    "\n",
    "# Przygotowanie danych - losowy wektor liczb\n",
    "set.seed(123)  # Ustawienie ziarna dla powtarzalności wyników\n",
    "exercf <- rnorm(10, mean = 5, sd = 10)  # Wygenerowanie wektora liczb\n",
    "\n",
    "# Wywołanie funkcji i wyświetlenie wyników\n",
    "exercf_po_odj_sredniej <- funkcja_odejmujaca_srednia(exercf)\n"
   ]
  },
  {
   "cell_type": "markdown",
   "id": "4403983a-b609-422f-8e1e-e7426f8aaf2f",
   "metadata": {},
   "source": [
    "## Zadanie 3\n",
    "\n",
    "1. Sprawdź jak wyglądają dane (wczytaj pierwsze 10 wierszy dla flights).\n",
    "\n",
    "2. Wczytaj dane z pliku cars.txt.\n",
    "\n",
    "3. Dodaj nazwy kolumn i ponumeruj wiersze nazwy kolumn: (mpg, cylinders, cubicinches, hp, weightlbs, time-to-60, year, brand)\n"
   ]
  },
  {
   "cell_type": "code",
   "execution_count": 4,
   "id": "6c00e6b8-be99-4007-b413-aedc688b377e",
   "metadata": {},
   "outputs": [
    {
     "name": "stdout",
     "output_type": "stream",
     "text": [
      "Pierwsze 10 wierszy danych z flights:\n",
      "\u001b[90m# A tibble: 10 × 19\u001b[39m\n",
      "    year month   day dep_time sched_dep_time dep_delay arr_time sched_arr_time\n",
      "   \u001b[3m\u001b[90m<int>\u001b[39m\u001b[23m \u001b[3m\u001b[90m<int>\u001b[39m\u001b[23m \u001b[3m\u001b[90m<int>\u001b[39m\u001b[23m    \u001b[3m\u001b[90m<int>\u001b[39m\u001b[23m          \u001b[3m\u001b[90m<int>\u001b[39m\u001b[23m     \u001b[3m\u001b[90m<dbl>\u001b[39m\u001b[23m    \u001b[3m\u001b[90m<int>\u001b[39m\u001b[23m          \u001b[3m\u001b[90m<int>\u001b[39m\u001b[23m\n",
      "\u001b[90m 1\u001b[39m  \u001b[4m2\u001b[24m013     1     1      517            515         2      830            819\n",
      "\u001b[90m 2\u001b[39m  \u001b[4m2\u001b[24m013     1     1      533            529         4      850            830\n",
      "\u001b[90m 3\u001b[39m  \u001b[4m2\u001b[24m013     1     1      542            540         2      923            850\n",
      "\u001b[90m 4\u001b[39m  \u001b[4m2\u001b[24m013     1     1      544            545        -\u001b[31m1\u001b[39m     \u001b[4m1\u001b[24m004           \u001b[4m1\u001b[24m022\n",
      "\u001b[90m 5\u001b[39m  \u001b[4m2\u001b[24m013     1     1      554            600        -\u001b[31m6\u001b[39m      812            837\n",
      "\u001b[90m 6\u001b[39m  \u001b[4m2\u001b[24m013     1     1      554            558        -\u001b[31m4\u001b[39m      740            728\n",
      "\u001b[90m 7\u001b[39m  \u001b[4m2\u001b[24m013     1     1      555            600        -\u001b[31m5\u001b[39m      913            854\n",
      "\u001b[90m 8\u001b[39m  \u001b[4m2\u001b[24m013     1     1      557            600        -\u001b[31m3\u001b[39m      709            723\n",
      "\u001b[90m 9\u001b[39m  \u001b[4m2\u001b[24m013     1     1      557            600        -\u001b[31m3\u001b[39m      838            846\n",
      "\u001b[90m10\u001b[39m  \u001b[4m2\u001b[24m013     1     1      558            600        -\u001b[31m2\u001b[39m      753            745\n",
      "\u001b[90m# ℹ 11 more variables: arr_delay <dbl>, carrier <chr>, flight <int>,\u001b[39m\n",
      "\u001b[90m#   tailnum <chr>, origin <chr>, dest <chr>, air_time <dbl>, distance <dbl>,\u001b[39m\n",
      "\u001b[90m#   hour <dbl>, minute <dbl>, time_hour <dttm>\u001b[39m\n",
      "Zawartość wczytanego pliku cars.txt:\n",
      "    V1 V2  V3  V4   V5   V6   V7        V8\n",
      "1 23.5  4 150  95 2700 14.5 1978    Toyota\n",
      "2 20.5  6 200  85 2965 15.8 1978      Ford\n",
      "3 22.3  4 140  88 2720 15.4 1978 Chevrolet\n",
      "4 20.2  6 232  90 3265 18.2 1978       AMC\n",
      "5 15.8  8 350 145 4082 13.7 1978   Pontiac\n",
      "6 19.0  6 250 110 3158 15.8 1978     Dodge\n",
      "Dane z pliku cars.txt z dodanymi nazwami kolumn i ponumerowanymi wierszami:\n",
      "   mpg cylinders cubicinches  hp weightlbs time-to-60 year     brand\n",
      "1 23.5         4         150  95      2700       14.5 1978    Toyota\n",
      "2 20.5         6         200  85      2965       15.8 1978      Ford\n",
      "3 22.3         4         140  88      2720       15.4 1978 Chevrolet\n",
      "4 20.2         6         232  90      3265       18.2 1978       AMC\n",
      "5 15.8         8         350 145      4082       13.7 1978   Pontiac\n",
      "6 19.0         6         250 110      3158       15.8 1978     Dodge\n"
     ]
    }
   ],
   "source": [
    "# 1. Przegląd danych flights\n",
    "cat(\"Pierwsze 10 wierszy danych z flights:\\n\")\n",
    "print(head(flights, 10))\n",
    "\n",
    "# 2. Wczytanie danych z pliku cars.txt\n",
    "cars <- read.delim(\"cars.txt\", sep=\";\", header=FALSE)\n",
    "cat(\"Zawartość wczytanego pliku cars.txt:\\n\")\n",
    "print(cars)\n",
    "\n",
    "# 3. Dodanie nazw kolumn i ponumerowanie wierszy\n",
    "colnames(cars) <- c(\"mpg\", \"cylinders\", \"cubicinches\", \"hp\", \"weightlbs\", \"time-to-60\", \"year\", \"brand\")\n",
    "rownames(cars) <- as.character(1:nrow(cars))\n",
    "cat(\"Dane z pliku cars.txt z dodanymi nazwami kolumn i ponumerowanymi wierszami:\\n\")\n",
    "print(cars)\n"
   ]
  }
 ],
 "metadata": {
  "kernelspec": {
   "display_name": "R",
   "language": "R",
   "name": "ir"
  },
  "language_info": {
   "codemirror_mode": "r",
   "file_extension": ".r",
   "mimetype": "text/x-r-source",
   "name": "R",
   "pygments_lexer": "r",
   "version": "4.4.2"
  }
 },
 "nbformat": 4,
 "nbformat_minor": 5
}
