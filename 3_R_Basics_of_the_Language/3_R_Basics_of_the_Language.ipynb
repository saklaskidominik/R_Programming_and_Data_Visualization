{
 "cells": [
  {
   "cell_type": "markdown",
   "id": "61e65243-7992-4be6-a472-b48523795bd1",
   "metadata": {},
   "source": [
    "<h2 style=\"text-align: center;\">Task Set 3</h2>\n",
    "<h1 style=\"text-align: center;\">R - Basics of the Language</h1>\n"
   ]
  },
  {
   "cell_type": "markdown",
   "id": "b2714a87-bf4e-4512-b94b-b98c3243ba42",
   "metadata": {},
   "source": [
    "#### Wczytanie potrzebnych pakietów"
   ]
  },
  {
   "cell_type": "code",
   "execution_count": null,
   "id": "8339d109-038d-4d02-9e75-0234627c45e1",
   "metadata": {},
   "outputs": [],
   "source": []
  },
  {
   "cell_type": "markdown",
   "id": "88eb37dd-4ff6-403d-88c4-bb35c00758f4",
   "metadata": {},
   "source": [
    "## Zadanie 1\n",
    "\n",
    "Utwórz data frame `planets`:\n",
    "\n",
    "| id | name    | type           | diameter | rotation | rings |\n",
    "|----|---------|----------------|----------|----------|-------|\n",
    "| 1  | Mercury | Terrestrial planet | 0.382  | 58.64    | FALSE |\n",
    "| 2  | Venus   | Terrestrial planet | 0.949  | -243.02  | FALSE |\n",
    "| 3  | Earth   | Terrestrial planet | 1.000  | 1.00     | FALSE |\n",
    "| 4  | Mars    | Terrestrial planet | 0.532  | 1.03     | FALSE |\n",
    "| 5  | Jupiter | Gas giant         | 11.209  | 0.41     | TRUE  |\n",
    "| 6  | Saturn  | Gas giant         | 9.449   | 0.43     | TRUE  |\n",
    "| 7  | Uranus  | Gas giant         | 4.007   | -0.72    | TRUE  |\n",
    "| 8  | Neptune | Gas giant         | 3.883   | 0.67     | TRUE  |\n",
    "\n",
    "*Podczas wprowadzania danych staraj się korzystać z dodatkowych funkcji ułatwiających wprowadzanie danych*\n",
    "\n",
    "1. Wybierz średnicę dla Marsa (diameter),\n",
    "2. Wybierz całość danych dla Urana,\n",
    "3. Sprawdź strukturę utworzonego data frame,\n",
    "4. Wyświetl informację o pierścieniach (rings),\n",
    "5. Utwórz zmienną `planets_rings` w której będą tylko te planety które mają pierścienie,\n",
    "6. Utwórz podzbiór zawierający planety o średnicy mniejszej niż 1.\n"
   ]
  },
  {
   "cell_type": "code",
   "execution_count": 1,
   "id": "4bfce87d-519b-40fd-95c6-3ba9c01ecf6e",
   "metadata": {},
   "outputs": [
    {
     "name": "stdout",
     "output_type": "stream",
     "text": [
      "Utworzony data frame 'planets':\n",
      "     name               type diameter rotation rings\n",
      "1 Mercury Terrestrial planet    0.398    58.64 FALSE\n",
      "2   Venus Terrestrial planet    0.949  -243.02 FALSE\n",
      "3   Earth Terrestrial planet    1.000     1.00 FALSE\n",
      "4    Mars Terrestrial planet    0.532     1.03 FALSE\n",
      "5 Jupiter          Gas giant   11.209     0.41  TRUE\n",
      "6  Saturn          Gas giant    9.449     0.43  TRUE\n",
      "7  Uranus          Gas giant    4.007    -0.72  TRUE\n",
      "8 Neptune          Gas giant    3.883     0.67  TRUE\n",
      "Średnica Marsa:  0.532 \n",
      "Dane dla Urana:\n",
      "    name      type diameter rotation rings\n",
      "7 Uranus Gas giant    4.007    -0.72  TRUE\n",
      "Struktura data frame 'planets':\n",
      "'data.frame':\t8 obs. of  5 variables:\n",
      " $ name    : chr  \"Mercury\" \"Venus\" \"Earth\" \"Mars\" ...\n",
      " $ type    : chr  \"Terrestrial planet\" \"Terrestrial planet\" \"Terrestrial planet\" \"Terrestrial planet\" ...\n",
      " $ diameter: num  0.398 0.949 1 0.532 11.209 ...\n",
      " $ rotation: num  58.64 -243.02 1 1.03 0.41 ...\n",
      " $ rings   : logi  FALSE FALSE FALSE FALSE TRUE TRUE ...\n",
      "NULL\n",
      "Informacje o pierścieniach w systemie słonecznym:\n",
      "FALSE FALSE FALSE FALSE TRUE TRUE TRUE TRUE\n",
      "Planety z pierścieniami:\n",
      "Jupiter Saturn Uranus NeptunePlanety o średnicy mniejszej niż 1:\n",
      "Mercury Venus Mars"
     ]
    }
   ],
   "source": [
    "# Tworzenie data frame planets\n",
    "name <- c(\"Mercury\", \"Venus\", \"Earth\", \"Mars\", \"Jupiter\", \"Saturn\", \"Uranus\", \"Neptune\")\n",
    "type <- c(rep(\"Terrestrial planet\", 4), rep(\"Gas giant\", 4))\n",
    "diameter <- c(0.398, 0.949, 1.000, 0.532, 11.209, 9.449, 4.007, 3.883)\n",
    "rotation <- c(58.64, -243.02, 1.00, 1.03, 0.41, 0.43, -0.72, 0.67)\n",
    "rings <- c(FALSE, FALSE, FALSE, FALSE, TRUE, TRUE, TRUE, TRUE)\n",
    "planets <- data.frame(name, type, diameter, rotation, rings, stringsAsFactors=FALSE)\n",
    "\n",
    "cat(\"Utworzony data frame 'planets':\\n\")\n",
    "print(planets)\n",
    "\n",
    "# 1. Wybierz średnicę dla Marsa (diameter)\n",
    "mars_diameter <- planets$diameter[planets$name == \"Mars\"]\n",
    "cat(\"Średnica Marsa: \", mars_diameter, \"\\n\")\n",
    "\n",
    "# 2. Wybierz całość danych dla Urana\n",
    "dane_Uranus <- planets[planets$name == \"Uranus\", ]\n",
    "cat(\"Dane dla Urana:\\n\")\n",
    "print(dane_Uranus)\n",
    "\n",
    "# 3. Sprawdź strukturę utworzonego data frame\n",
    "cat(\"Struktura data frame 'planets':\\n\")\n",
    "print(str(planets))\n",
    "\n",
    "# 4. Wyświetl informację o pierścieniach (rings)\n",
    "cat(\"Informacje o pierścieniach w systemie słonecznym:\\n\")\n",
    "rings_info <- planets$rings\n",
    "cat(rings_info)\n",
    "\n",
    "# 5. Utwórz zmienną `planets_rings` w której będą tylko te planety które mają pierścienie\n",
    "planets_rings <- planets[planets$rings == TRUE, ]\n",
    "cat(\"\\nPlanety z pierścieniami:\\n\")\n",
    "cat(planets_rings$name)\n",
    "\n",
    "# 6. Utwórz podzbiór zawierający planety o średnicy mniejszej niż 1\n",
    "planets_diameter <- subset(planets, diameter < 1)\n",
    "cat(\"Planety o średnicy mniejszej niż 1:\\n\")\n",
    "cat(planets_diameter$name)\n"
   ]
  },
  {
   "cell_type": "markdown",
   "id": "ac8c868a-c517-4f21-81c1-91d4755cc138",
   "metadata": {},
   "source": [
    "## Zadanie 2\n",
    "\n",
    "1. Utwórz speedfactor:\n",
    "- medium, slow, slow, medium, fast, very_fast, slow, fast, fast\n",
    "- Levels: slow < medium < fast < very_fast\n",
    "\n",
    "  - wyświetl podsumowanie dla speedfactor,\n",
    "  - zapisz 2 element faktora do zmiennej sf2,\n",
    "  - zapisz 6 element faktora do zmiennej sf6,\n",
    "  - sprawdź który z tych elementów jest większy.\n",
    "\n",
    "2. Tworzenie i modyfikowanie listy:\n",
    "\n",
    "- Utwórz listę o nazwie film, która będzie zawierała następujące składniki:\n",
    "  - title: \"The Shining\"\n",
    "  - actors: \"Jack Nicholson\", \"Shelley Duvall\", \"Danny Lloyd\", \"Scatman Crothers\", \"Barry Nelson\"\n",
    "  - reviews: Opinie na temat filmu zapisane jako faktor z poziomami \"Bad\", \"OK\", \"Good\", \"Perfect\". Opcinie to: \"Good\", \"OK\", \"Good\", \"Perfect\", \"Bad\", \"Perfect\", \"Good\".\n",
    "\n",
    "3. Po utworzeniu listy:\n",
    "- Wyświetl wszystkie opinie o filmie.\n",
    "- Pokaż aktora, który znajduje się na drugiej pozycji na liście aktorów.\n",
    "- Rozszerz listę film o własną opinię na temat filmu. Twoja opinia powinna być wyrażona w skali od 1 do 5 i zapisana jako liczba zmiennoprzecinkowa (typ double). Umieść tę opinię na końcu listy pod nazwą my_review.\n"
   ]
  },
  {
   "cell_type": "code",
   "execution_count": 2,
   "id": "59794c8d-33db-40dc-8baa-42762af55f8c",
   "metadata": {},
   "outputs": [
    {
     "name": "stdout",
     "output_type": "stream",
     "text": [
      "Podsumowanie speedfactor:\n"
     ]
    },
    {
     "data": {
      "text/html": [
       "<style>\n",
       ".dl-inline {width: auto; margin:0; padding: 0}\n",
       ".dl-inline>dt, .dl-inline>dd {float: none; width: auto; display: inline-block}\n",
       ".dl-inline>dt::after {content: \":\\0020\"; padding-right: .5ex}\n",
       ".dl-inline>dt:not(:first-of-type) {padding-left: .5ex}\n",
       "</style><dl class=dl-inline><dt>slow</dt><dd>3</dd><dt>medium</dt><dd>2</dd><dt>fast</dt><dd>3</dd><dt>very_fast</dt><dd>1</dd></dl>\n"
      ],
      "text/latex": [
       "\\begin{description*}\n",
       "\\item[slow] 3\n",
       "\\item[medium] 2\n",
       "\\item[fast] 3\n",
       "\\item[very\\textbackslash{}\\_fast] 1\n",
       "\\end{description*}\n"
      ],
      "text/markdown": [
       "slow\n",
       ":   3medium\n",
       ":   2fast\n",
       ":   3very_fast\n",
       ":   1\n",
       "\n"
      ],
      "text/plain": [
       "     slow    medium      fast very_fast \n",
       "        3         2         3         1 "
      ]
     },
     "metadata": {},
     "output_type": "display_data"
    },
    {
     "name": "stdout",
     "output_type": "stream",
     "text": [
      "Drugi element speedfactor (sf2):  1 \n",
      "Szósty element speedfactor (sf6):  4 \n",
      "Większy element:  sf6 is greater \n",
      "Lista film zawiera:\n",
      "$title\n",
      "[1] \"The Shining\"\n",
      "\n",
      "$actors\n",
      "[1] \"Jack Nicholson\"   \"Shelley Duvall\"   \"Danny Lloyd\"      \"Scatman Crothers\"\n",
      "[5] \"Barry Nelson\"    \n",
      "\n",
      "$reviews\n",
      "[1] Good    OK      Good    Perfect Bad     Perfect Good   \n",
      "Levels: Bad < OK < Good < Perfect\n",
      "\n",
      "Opinie o filmie 'The Shining':\n",
      "[1] Good    OK      Good    Perfect Bad     Perfect Good   \n",
      "Levels: Bad < OK < Good < Perfect\n",
      "Drugi aktor w filmie 'The Shining':  Shelley Duvall \n",
      "Dodana własna opinia na temat filmu:  4.99 \n",
      "Typ danych mojej opinii:  double \n"
     ]
    }
   ],
   "source": [
    "# 1. Utwórz speedfactor:\n",
    "speed <- c(\"medium\", \"slow\", \"slow\", \"medium\", \"fast\", \"very_fast\", \"slow\", \"fast\", \"fast\")\n",
    "levels <- c(\"slow\", \"medium\", \"fast\", \"very_fast\")\n",
    "speedfactor <- factor(speed, levels = levels, ordered = TRUE)\n",
    "\n",
    "cat(\"Podsumowanie speedfactor:\\n\")\n",
    "summary(speedfactor)\n",
    "\n",
    "sf2 <- speedfactor[2]\n",
    "sf6 <- speedfactor[6]\n",
    "\n",
    "cat(\"Drugi element speedfactor (sf2): \", sf2, \"\\n\")\n",
    "cat(\"Szósty element speedfactor (sf6): \", sf6, \"\\n\")\n",
    "\n",
    "# Sprawdź który z tych elementów jest większy.\n",
    "greater_element <- ifelse(sf2 > sf6, \"sf2 is greater\", \"sf6 is greater\")\n",
    "cat(\"Większy element: \", greater_element, \"\\n\")\n",
    "\n",
    "# 2. Tworzenie i modyfikowanie listy:\n",
    "film <- list(\n",
    "    title = \"The Shining\",\n",
    "    actors = c(\"Jack Nicholson\", \"Shelley Duvall\", \"Danny Lloyd\", \"Scatman Crothers\", \"Barry Nelson\"),\n",
    "    reviews = factor(c(\"Good\", \"OK\", \"Good\", \"Perfect\", \"Bad\", \"Perfect\", \"Good\"), \n",
    "                     levels = c(\"Bad\", \"OK\", \"Good\", \"Perfect\"), ordered = TRUE)\n",
    ")\n",
    "\n",
    "cat(\"Lista film zawiera:\\n\")\n",
    "print(film)\n",
    "\n",
    "# 3. Po utworzeniu listy:\n",
    "# Wyświetl wszystkie opinie o filmie.\n",
    "cat(\"Opinie o filmie 'The Shining':\\n\")\n",
    "print(film$reviews)\n",
    "\n",
    "# Pokaż aktora, który znajduje się na drugiej pozycji na liście aktorów.\n",
    "cat(\"Drugi aktor w filmie 'The Shining': \", film$actors[2], \"\\n\")\n",
    "\n",
    "# Rozszerz listę film o własną opinię na temat filmu.\n",
    "film$my_review <- 4.99\n",
    "cat(\"Dodana własna opinia na temat filmu: \", film$my_review, \"\\n\")\n",
    "cat(\"Typ danych mojej opinii: \", ifelse(is.double(film$my_review), \"double\", \"not double\"), \"\\n\")\n"
   ]
  },
  {
   "cell_type": "markdown",
   "id": "ce5479b6-10bf-46c5-a0b7-9a5539219548",
   "metadata": {},
   "source": [
    "## Zadanie 3\n",
    "\n",
    "1. Wygeneruj 3 wektory (chisq, tstud, unif), składające się z 100 obserwacji z rozkładów chi kwadrat, t-studenta oraz równomiernego. Dobierz dowolnie argumenty funkcji. Skorzystaj z `help(\"Distributions\")`. Zastosuj losowe (seed=100). Sprawdź typ utworzonych wektorów.\n",
    "\n",
    "2. Utwórz wektory. Spróbuj zgadnąć jakiego typu atomowego będzie każdy z nich. Zapisz odpowiedź w komentarzu. Następnie potwierdź swoją odpowiedź z wykorzystaniem dedykowanych funkcji.\n",
    "- `vec_a` z wartościami `c(TRUE, 2, 5)`\n",
    "- `vec_b` z wartościami `c(3, \"cztery\", FALSE)`\n",
    "- `vec_c` z wartościami `c(FALSE, 1L, 2.0, 3.0i)`\n",
    "- `vec_d` z wartościami `c(FALSE, 1L, T)`\n",
    "\n",
    "3. Ile wynosi suma elementów większych od 15 dla zmiennej `numbers` o wartościach: 20, 5, 18, 19, 8.5, 3, 4, 101, -2, 24, -30?\n",
    "\n",
    "4. Sprawdź jaki wektor `letters` (wbudowany w R). Następnie uzupełnij go o polskie litery diakrytyzowane i przypisz do zmiennej `letters_pl`. Jaką długość ma nowo utworzony wektor?\n"
   ]
  },
  {
   "cell_type": "code",
   "execution_count": 3,
   "id": "d4427876-8fe9-4295-b815-e31420e8bbc2",
   "metadata": {},
   "outputs": [
    {
     "name": "stdout",
     "output_type": "stream",
     "text": [
      "Wektor z rozkładu chi kwadrat:  double \n",
      "Wektor z rozkładu t-studenta:  double \n",
      "Wektor z rozkładu równomiernego:  double \n",
      "Typ wektora vec_a:  double \n",
      "Typ wektora vec_b:  character \n",
      "Typ wektora vec_c:  complex \n",
      "Typ wektora vec_d:  integer \n",
      "Suma elementów większych od 15:  182 \n",
      "Długość nowo utworzonego wektora letters_pl:  35 \n"
     ]
    }
   ],
   "source": [
    "# 1 Wygenerowanie wektorów z różnych rozkładów\n",
    "set.seed(100)\n",
    "chisq <- rchisq(100, df = 7)\n",
    "cat(\"Wektor z rozkładu chi kwadrat: \", typeof(chisq), \"\\n\")\n",
    "tstud <- rt(100, df = 4)\n",
    "cat(\"Wektor z rozkładu t-studenta: \", typeof(tstud), \"\\n\")\n",
    "unif <- runif(100, min = 1, max = 10)\n",
    "cat(\"Wektor z rozkładu równomiernego: \", typeof(unif), \"\\n\")\n",
    "\n",
    "# 2 Utworzenie i identyfikacja typów wektorów\n",
    "vec_a <- c(TRUE, 2, 5)\n",
    "cat(\"Typ wektora vec_a: \", typeof(vec_a), \"\\n\")  \n",
    "\n",
    "vec_b <- c(3, \"cztery\", FALSE)\n",
    "cat(\"Typ wektora vec_b: \", typeof(vec_b), \"\\n\") \n",
    "\n",
    "vec_c <- c(FALSE, 1L, 2.0, 3.0i)\n",
    "cat(\"Typ wektora vec_c: \", typeof(vec_c), \"\\n\") \n",
    "\n",
    "vec_d <- c(FALSE, 1L, T)\n",
    "cat(\"Typ wektora vec_d: \", typeof(vec_d), \"\\n\") \n",
    "\n",
    "# 3 Suma elementów większych od 15\n",
    "numbers <- c(20, 5, 18, 19, 8.5, 3, 4, 101, -2, 24, -30)\n",
    "suma_elementow_wiekszych_od_15 <- sum(numbers[numbers > 15])\n",
    "cat(\"Suma elementów większych od 15: \", suma_elementow_wiekszych_od_15, \"\\n\")\n",
    "\n",
    "# 4 Rozszerzenie wektora letters\n",
    "letters_pl <- c(letters, \"ą\", \"ć\", \"ę\", \"ł\", \"ń\", \"ó\", \"ś\", \"ź\", \"ż\")\n",
    "cat(\"Długość nowo utworzonego wektora letters_pl: \", length(letters_pl), \"\\n\")\n"
   ]
  }
 ],
 "metadata": {
  "kernelspec": {
   "display_name": "R",
   "language": "R",
   "name": "ir"
  },
  "language_info": {
   "codemirror_mode": "r",
   "file_extension": ".r",
   "mimetype": "text/x-r-source",
   "name": "R",
   "pygments_lexer": "r",
   "version": "4.4.2"
  }
 },
 "nbformat": 4,
 "nbformat_minor": 5
}
