{
 "cells": [
  {
   "cell_type": "markdown",
   "id": "e5eb5952-cf1d-4fcd-8be2-a65d59d5970c",
   "metadata": {},
   "source": [
    "<h2 style=\"text-align: center;\">Task Set 7</h2>\n",
    "<h1 style=\"text-align: center;\">R - Control statements</h1>"
   ]
  },
  {
   "cell_type": "markdown",
   "id": "af495c79-eaec-4116-8e02-86387fb8dd82",
   "metadata": {},
   "source": [
    "#### Wczytanie potrzebnych pakietów"
   ]
  },
  {
   "cell_type": "code",
   "execution_count": 1,
   "id": "10f10d92-df30-4730-9d06-ac63f286a840",
   "metadata": {},
   "outputs": [
    {
     "name": "stderr",
     "output_type": "stream",
     "text": [
      "\n",
      "Dołączanie pakietu: 'dplyr'\n",
      "\n",
      "\n",
      "Następujące obiekty zostały zakryte z 'package:stats':\n",
      "\n",
      "    filter, lag\n",
      "\n",
      "\n",
      "Następujące obiekty zostały zakryte z 'package:base':\n",
      "\n",
      "    intersect, setdiff, setequal, union\n",
      "\n",
      "\n"
     ]
    }
   ],
   "source": [
    "library(gapminder)\n",
    "library(tidyr)\n",
    "library(dplyr)\n",
    "library(nycflights13)"
   ]
  },
  {
   "cell_type": "markdown",
   "id": "a0617335-15d5-4031-a74f-2a3c57b3eaed",
   "metadata": {},
   "source": [
    "# Zadanie 1\n",
    "\n",
    "Dla zbioru danych flights (nycflights13) wykonaj następujące operacje i przekształcenia:\n",
    "\n",
    "1. Wyświetl wyłącznie loty do Atlanty (ATL) z lotniska LaGuardia Nowy Jork (LGA)\n",
    "\n",
    "2. Wyświetl zmienną: tailnum oraz wszystkie zawierające na końcu \"time\"\n",
    "\n",
    "3. Oblicz czas lotu i zapisz jako time_in_air, wyświetl tylko informacje o numerze lotu, czasie wylotu i czasie przylotu oraz nowo utworzoną zmienną\n",
    "\n",
    "4. Wyświetl wyłącznie wiersze 1300 i 1400 z danych\n",
    "\n",
    "5. Wyświetl numer samolotu (tailnum), lotnisko wylotu oraz lotnisko docelowe dla lotów, których występuje opóźnienie po przylotcie i jest ono minimum dziesięciokrotnie dłuższe niż opóźnienie wylotu\n",
    "\n",
    "6. Sprawdź czy w danych występują wartości NA dla tailnum. Jeśli występują zapisz wszystkie rekordy z NA do flight_na_tailnum\n",
    "\n",
    "7. Policz liczbę lotów oraz statystyki dla zmiennej distance: wartość średnia, minimum i maksimum dla lotów wykonanych w poszczególnych miesiącach\n",
    "\n",
    "8. Wyświetl 3 loty o największym opóźnieniu dla każdego typu samolotu\n",
    "\n",
    "9. Dla poszczególnych typów samolotów (carrier) oblicz liczbę lotów i średni czas w powietrzu. Następnie wybierz wyłącznie te wyniki do wyświetlenia dla których liczba lotów jest wyższa niż 700 oraz średni czas w powietrzu jest wyższy od 100. Wyniki wyświetl w kolejności malejącej dla liczby lotów\n",
    "\n",
    "10. Znajdź informacje o funkcji slice_sample a następnie wylosuj 50 obserwacji ze zbioru i zapisz do flights_sample\n",
    "\n",
    "11. Sprawdź ile unikatowych rekordów jest w danych\n",
    "\n",
    "12. Wykonaj losowy podzbiór danych składający się z 3 rekordów i zmiennych (tailnum, dest, origin), flight) następnie zmień na postać długą danych (gather)\n"
   ]
  },
  {
   "cell_type": "code",
   "execution_count": 2,
   "id": "861a5590-35a0-4711-8108-164059b5647a",
   "metadata": {},
   "outputs": [
    {
     "data": {
      "text/html": [
       "<table class=\"dataframe\">\n",
       "<caption>A tibble: 6 × 19</caption>\n",
       "<thead>\n",
       "\t<tr><th scope=col>year</th><th scope=col>month</th><th scope=col>day</th><th scope=col>dep_time</th><th scope=col>sched_dep_time</th><th scope=col>dep_delay</th><th scope=col>arr_time</th><th scope=col>sched_arr_time</th><th scope=col>arr_delay</th><th scope=col>carrier</th><th scope=col>flight</th><th scope=col>tailnum</th><th scope=col>origin</th><th scope=col>dest</th><th scope=col>air_time</th><th scope=col>distance</th><th scope=col>hour</th><th scope=col>minute</th><th scope=col>time_hour</th></tr>\n",
       "\t<tr><th scope=col>&lt;int&gt;</th><th scope=col>&lt;int&gt;</th><th scope=col>&lt;int&gt;</th><th scope=col>&lt;int&gt;</th><th scope=col>&lt;int&gt;</th><th scope=col>&lt;dbl&gt;</th><th scope=col>&lt;int&gt;</th><th scope=col>&lt;int&gt;</th><th scope=col>&lt;dbl&gt;</th><th scope=col>&lt;chr&gt;</th><th scope=col>&lt;int&gt;</th><th scope=col>&lt;chr&gt;</th><th scope=col>&lt;chr&gt;</th><th scope=col>&lt;chr&gt;</th><th scope=col>&lt;dbl&gt;</th><th scope=col>&lt;dbl&gt;</th><th scope=col>&lt;dbl&gt;</th><th scope=col>&lt;dbl&gt;</th><th scope=col>&lt;dttm&gt;</th></tr>\n",
       "</thead>\n",
       "<tbody>\n",
       "\t<tr><td>2013</td><td>1</td><td>1</td><td>554</td><td>600</td><td>-6</td><td> 812</td><td> 837</td><td>-25</td><td>DL</td><td> 461</td><td>N668DN</td><td>LGA</td><td>ATL</td><td>116</td><td>762</td><td>6</td><td> 0</td><td>2013-01-01 06:00:00</td></tr>\n",
       "\t<tr><td>2013</td><td>1</td><td>1</td><td>600</td><td>600</td><td> 0</td><td> 837</td><td> 825</td><td> 12</td><td>MQ</td><td>4650</td><td>N542MQ</td><td>LGA</td><td>ATL</td><td>134</td><td>762</td><td>6</td><td> 0</td><td>2013-01-01 06:00:00</td></tr>\n",
       "\t<tr><td>2013</td><td>1</td><td>1</td><td>658</td><td>700</td><td>-2</td><td> 944</td><td> 939</td><td>  5</td><td>DL</td><td>1547</td><td>N6703D</td><td>LGA</td><td>ATL</td><td>126</td><td>762</td><td>7</td><td> 0</td><td>2013-01-01 07:00:00</td></tr>\n",
       "\t<tr><td>2013</td><td>1</td><td>1</td><td>754</td><td>759</td><td>-5</td><td>1039</td><td>1041</td><td> -2</td><td>DL</td><td>2047</td><td>N935DL</td><td>LGA</td><td>ATL</td><td>126</td><td>762</td><td>7</td><td>59</td><td>2013-01-01 07:00:00</td></tr>\n",
       "\t<tr><td>2013</td><td>1</td><td>1</td><td>814</td><td>810</td><td> 4</td><td>1047</td><td>1030</td><td> 17</td><td>FL</td><td> 346</td><td>N977AT</td><td>LGA</td><td>ATL</td><td>132</td><td>762</td><td>8</td><td>10</td><td>2013-01-01 08:00:00</td></tr>\n",
       "\t<tr><td>2013</td><td>1</td><td>1</td><td>830</td><td>835</td><td>-5</td><td>1052</td><td>1105</td><td>-13</td><td>MQ</td><td>4610</td><td>N513MQ</td><td>LGA</td><td>ATL</td><td>123</td><td>762</td><td>8</td><td>35</td><td>2013-01-01 08:00:00</td></tr>\n",
       "</tbody>\n",
       "</table>\n"
      ],
      "text/latex": [
       "A tibble: 6 × 19\n",
       "\\begin{tabular}{lllllllllllllllllll}\n",
       " year & month & day & dep\\_time & sched\\_dep\\_time & dep\\_delay & arr\\_time & sched\\_arr\\_time & arr\\_delay & carrier & flight & tailnum & origin & dest & air\\_time & distance & hour & minute & time\\_hour\\\\\n",
       " <int> & <int> & <int> & <int> & <int> & <dbl> & <int> & <int> & <dbl> & <chr> & <int> & <chr> & <chr> & <chr> & <dbl> & <dbl> & <dbl> & <dbl> & <dttm>\\\\\n",
       "\\hline\n",
       "\t 2013 & 1 & 1 & 554 & 600 & -6 &  812 &  837 & -25 & DL &  461 & N668DN & LGA & ATL & 116 & 762 & 6 &  0 & 2013-01-01 06:00:00\\\\\n",
       "\t 2013 & 1 & 1 & 600 & 600 &  0 &  837 &  825 &  12 & MQ & 4650 & N542MQ & LGA & ATL & 134 & 762 & 6 &  0 & 2013-01-01 06:00:00\\\\\n",
       "\t 2013 & 1 & 1 & 658 & 700 & -2 &  944 &  939 &   5 & DL & 1547 & N6703D & LGA & ATL & 126 & 762 & 7 &  0 & 2013-01-01 07:00:00\\\\\n",
       "\t 2013 & 1 & 1 & 754 & 759 & -5 & 1039 & 1041 &  -2 & DL & 2047 & N935DL & LGA & ATL & 126 & 762 & 7 & 59 & 2013-01-01 07:00:00\\\\\n",
       "\t 2013 & 1 & 1 & 814 & 810 &  4 & 1047 & 1030 &  17 & FL &  346 & N977AT & LGA & ATL & 132 & 762 & 8 & 10 & 2013-01-01 08:00:00\\\\\n",
       "\t 2013 & 1 & 1 & 830 & 835 & -5 & 1052 & 1105 & -13 & MQ & 4610 & N513MQ & LGA & ATL & 123 & 762 & 8 & 35 & 2013-01-01 08:00:00\\\\\n",
       "\\end{tabular}\n"
      ],
      "text/markdown": [
       "\n",
       "A tibble: 6 × 19\n",
       "\n",
       "| year &lt;int&gt; | month &lt;int&gt; | day &lt;int&gt; | dep_time &lt;int&gt; | sched_dep_time &lt;int&gt; | dep_delay &lt;dbl&gt; | arr_time &lt;int&gt; | sched_arr_time &lt;int&gt; | arr_delay &lt;dbl&gt; | carrier &lt;chr&gt; | flight &lt;int&gt; | tailnum &lt;chr&gt; | origin &lt;chr&gt; | dest &lt;chr&gt; | air_time &lt;dbl&gt; | distance &lt;dbl&gt; | hour &lt;dbl&gt; | minute &lt;dbl&gt; | time_hour &lt;dttm&gt; |\n",
       "|---|---|---|---|---|---|---|---|---|---|---|---|---|---|---|---|---|---|---|\n",
       "| 2013 | 1 | 1 | 554 | 600 | -6 |  812 |  837 | -25 | DL |  461 | N668DN | LGA | ATL | 116 | 762 | 6 |  0 | 2013-01-01 06:00:00 |\n",
       "| 2013 | 1 | 1 | 600 | 600 |  0 |  837 |  825 |  12 | MQ | 4650 | N542MQ | LGA | ATL | 134 | 762 | 6 |  0 | 2013-01-01 06:00:00 |\n",
       "| 2013 | 1 | 1 | 658 | 700 | -2 |  944 |  939 |   5 | DL | 1547 | N6703D | LGA | ATL | 126 | 762 | 7 |  0 | 2013-01-01 07:00:00 |\n",
       "| 2013 | 1 | 1 | 754 | 759 | -5 | 1039 | 1041 |  -2 | DL | 2047 | N935DL | LGA | ATL | 126 | 762 | 7 | 59 | 2013-01-01 07:00:00 |\n",
       "| 2013 | 1 | 1 | 814 | 810 |  4 | 1047 | 1030 |  17 | FL |  346 | N977AT | LGA | ATL | 132 | 762 | 8 | 10 | 2013-01-01 08:00:00 |\n",
       "| 2013 | 1 | 1 | 830 | 835 | -5 | 1052 | 1105 | -13 | MQ | 4610 | N513MQ | LGA | ATL | 123 | 762 | 8 | 35 | 2013-01-01 08:00:00 |\n",
       "\n"
      ],
      "text/plain": [
       "  year month day dep_time sched_dep_time dep_delay arr_time sched_arr_time\n",
       "1 2013 1     1   554      600            -6         812      837          \n",
       "2 2013 1     1   600      600             0         837      825          \n",
       "3 2013 1     1   658      700            -2         944      939          \n",
       "4 2013 1     1   754      759            -5        1039     1041          \n",
       "5 2013 1     1   814      810             4        1047     1030          \n",
       "6 2013 1     1   830      835            -5        1052     1105          \n",
       "  arr_delay carrier flight tailnum origin dest air_time distance hour minute\n",
       "1 -25       DL       461   N668DN  LGA    ATL  116      762      6     0    \n",
       "2  12       MQ      4650   N542MQ  LGA    ATL  134      762      6     0    \n",
       "3   5       DL      1547   N6703D  LGA    ATL  126      762      7     0    \n",
       "4  -2       DL      2047   N935DL  LGA    ATL  126      762      7    59    \n",
       "5  17       FL       346   N977AT  LGA    ATL  132      762      8    10    \n",
       "6 -13       MQ      4610   N513MQ  LGA    ATL  123      762      8    35    \n",
       "  time_hour          \n",
       "1 2013-01-01 06:00:00\n",
       "2 2013-01-01 06:00:00\n",
       "3 2013-01-01 07:00:00\n",
       "4 2013-01-01 07:00:00\n",
       "5 2013-01-01 08:00:00\n",
       "6 2013-01-01 08:00:00"
      ]
     },
     "metadata": {},
     "output_type": "display_data"
    },
    {
     "data": {
      "text/html": [
       "<table class=\"dataframe\">\n",
       "<caption>A tibble: 6 × 6</caption>\n",
       "<thead>\n",
       "\t<tr><th scope=col>tailnum</th><th scope=col>dep_time</th><th scope=col>sched_dep_time</th><th scope=col>arr_time</th><th scope=col>sched_arr_time</th><th scope=col>air_time</th></tr>\n",
       "\t<tr><th scope=col>&lt;chr&gt;</th><th scope=col>&lt;int&gt;</th><th scope=col>&lt;int&gt;</th><th scope=col>&lt;int&gt;</th><th scope=col>&lt;int&gt;</th><th scope=col>&lt;dbl&gt;</th></tr>\n",
       "</thead>\n",
       "<tbody>\n",
       "\t<tr><td>N14228</td><td>517</td><td>515</td><td> 830</td><td> 819</td><td>227</td></tr>\n",
       "\t<tr><td>N24211</td><td>533</td><td>529</td><td> 850</td><td> 830</td><td>227</td></tr>\n",
       "\t<tr><td>N619AA</td><td>542</td><td>540</td><td> 923</td><td> 850</td><td>160</td></tr>\n",
       "\t<tr><td>N804JB</td><td>544</td><td>545</td><td>1004</td><td>1022</td><td>183</td></tr>\n",
       "\t<tr><td>N668DN</td><td>554</td><td>600</td><td> 812</td><td> 837</td><td>116</td></tr>\n",
       "\t<tr><td>N39463</td><td>554</td><td>558</td><td> 740</td><td> 728</td><td>150</td></tr>\n",
       "</tbody>\n",
       "</table>\n"
      ],
      "text/latex": [
       "A tibble: 6 × 6\n",
       "\\begin{tabular}{llllll}\n",
       " tailnum & dep\\_time & sched\\_dep\\_time & arr\\_time & sched\\_arr\\_time & air\\_time\\\\\n",
       " <chr> & <int> & <int> & <int> & <int> & <dbl>\\\\\n",
       "\\hline\n",
       "\t N14228 & 517 & 515 &  830 &  819 & 227\\\\\n",
       "\t N24211 & 533 & 529 &  850 &  830 & 227\\\\\n",
       "\t N619AA & 542 & 540 &  923 &  850 & 160\\\\\n",
       "\t N804JB & 544 & 545 & 1004 & 1022 & 183\\\\\n",
       "\t N668DN & 554 & 600 &  812 &  837 & 116\\\\\n",
       "\t N39463 & 554 & 558 &  740 &  728 & 150\\\\\n",
       "\\end{tabular}\n"
      ],
      "text/markdown": [
       "\n",
       "A tibble: 6 × 6\n",
       "\n",
       "| tailnum &lt;chr&gt; | dep_time &lt;int&gt; | sched_dep_time &lt;int&gt; | arr_time &lt;int&gt; | sched_arr_time &lt;int&gt; | air_time &lt;dbl&gt; |\n",
       "|---|---|---|---|---|---|\n",
       "| N14228 | 517 | 515 |  830 |  819 | 227 |\n",
       "| N24211 | 533 | 529 |  850 |  830 | 227 |\n",
       "| N619AA | 542 | 540 |  923 |  850 | 160 |\n",
       "| N804JB | 544 | 545 | 1004 | 1022 | 183 |\n",
       "| N668DN | 554 | 600 |  812 |  837 | 116 |\n",
       "| N39463 | 554 | 558 |  740 |  728 | 150 |\n",
       "\n"
      ],
      "text/plain": [
       "  tailnum dep_time sched_dep_time arr_time sched_arr_time air_time\n",
       "1 N14228  517      515             830      819           227     \n",
       "2 N24211  533      529             850      830           227     \n",
       "3 N619AA  542      540             923      850           160     \n",
       "4 N804JB  544      545            1004     1022           183     \n",
       "5 N668DN  554      600             812      837           116     \n",
       "6 N39463  554      558             740      728           150     "
      ]
     },
     "metadata": {},
     "output_type": "display_data"
    },
    {
     "ename": "ERROR",
     "evalue": "Error: nie znaleziono obiektu 'selected_info'\n",
     "output_type": "error",
     "traceback": [
      "Error: nie znaleziono obiektu 'selected_info'\nTraceback:\n",
      "1. .handleSimpleError(function (cnd) \n . {\n .     watcher$capture_plot_and_output()\n .     cnd <- sanitize_call(cnd)\n .     watcher$push(cnd)\n .     switch(on_error, continue = invokeRestart(\"eval_continue\"), \n .         stop = invokeRestart(\"eval_stop\"), error = NULL)\n . }, \"nie znaleziono obiektu 'selected_info'\", base::quote(eval(expr, \n .     envir)))"
     ]
    }
   ],
   "source": [
    "# 1. Wyświetl wyłącznie loty do Atlanty (ATL) z lotniska LaGuardia Nowy Jork (LGA)\n",
    "flights1 <- flights %>%\n",
    "  filter(dest == \"ATL\" & origin == \"LGA\")\n",
    "head(flights1)\n",
    "\n",
    "# 2. Wyświetl zmienną: tailnum oraz wszystkie zawierające na końcu \"time\"\n",
    "flights2 <- flights %>%\n",
    "  select(tailnum, ends_with(\"time\"))\n",
    "head(flights2)\n",
    "\n",
    "# 3. Oblicz czas lotu i zapisz jako time_in_air, wyświetl tylko informacje o numerze lotu, czasie wylotu i czasie przylotu oraz nowo utworzoną zmienną\n",
    "flights_3 <- flights %>%\n",
    "  mutate(time_in_air = arr_time - dep_time) %>%\n",
    "  select(flight, dep_time, arr_time, time_in_air)\n",
    "head(flights_3)\n",
    "\n",
    "# 4. Wyświetl wyłącznie wiersze 1300 i 1400 z danych\n",
    "flights4 <- flights %>%\n",
    "  slice(c(1300, 1400))\n",
    "head(flights4)\n",
    "\n",
    "# 5. Wyświetl numer samolotu (tailnum), lotnisko wylotu oraz lotnisko docelowe dla lotów, których występuje opóźnienie po przylotcie i jest ono minimum dziesięciokrotnie dłuższe niż opóźnienie wylotu\n",
    "flight5 <- flights %>%\n",
    "  filter(arr_delay > 10 * dep_delay) %>%\n",
    "  select(tailnum, origin, dest)\n",
    "head(flight5)\n",
    "\n",
    "# 6. Sprawdź czy w danych występują wartości NA dla tailnum. Jeśli występują zapisz wszystkie rekordy z NA do flight_na_tailnum\n",
    "flight_na_tailnum <- flights %>% \n",
    "  filter(is.na(tailnum))\n",
    "head(flight_na_tailnum)\n",
    "\n",
    "# 7. Policz liczbę lotów oraz statystyki dla zmiennej distance: wartość średnia, minimum i maksimum dla lotów wykonanych w poszczególnych miesiącach\n",
    "flights_7 <- flights %>%\n",
    "  group_by(month) %>%\n",
    "  summarize(\n",
    "    number_of_flights = n(),\n",
    "    ave = mean(distance, na.rm = TRUE),\n",
    "    min = min(distance, na.rm = TRUE),\n",
    "    max = max(distance, na.rm = TRUE)\n",
    "  )\n",
    "head(flights_7)\n",
    "\n",
    "# 8. Wyświetl 3 loty o największym opóźnieniu dla każdego typu samolotu\n",
    "flights8 <- flights %>%\n",
    "  group_by(carrier) %>%\n",
    "  arrange(desc(arr_delay)) %>%\n",
    "  slice_head(n = 3)\n",
    "head(flights8)\n",
    "\n",
    "# 9. Dla poszczególnych typów samolotów (carrier) oblicz liczbę lotów i średni czas w powietrzu. Następnie wybierz wyłącznie te wyniki do wyświetlenia dla których liczba lotów jest wyższa niż 700 oraz średni czas w powietrzu jest wyższy od 100. Wyniki wyświetl w kolejności malejącej dla liczby lotów\n",
    "stats_i <- flights %>%\n",
    "  group_by(carrier) %>%\n",
    "  summarize(\n",
    "    number_flights = n(),\n",
    "    ave_time = mean(air_time, na.rm = TRUE)\n",
    "  ) %>%\n",
    "  filter(number_flights > 700 , ave_time > 100) %>%\n",
    "  arrange(desc(number_flights))\n",
    "head(stats_i)\n",
    "\n",
    "# 10. Znajdź informacje o funkcji slice_sample a następnie wylosuj 50 obserwacji ze zbioru i zapisz do flights_sample\n",
    "flights_sample <- flights %>%\n",
    "  slice_sample(n = 50, replace = FALSE)\n",
    "head(flights_sample)\n",
    "\n",
    "# 11. Sprawdź ile unikatowych rekordów jest w danych\n",
    "unique_records <- distinct(flights)\n",
    "num_unique_records <- nrow(unique_records)\n",
    "print(num_unique_records)\n",
    "\n",
    "# 12. Wykonaj losowy podzbiór danych składający się z 3 rekordów i zmiennych (tailnum, dest, origin, flight) następnie zmień na postać długą danych (gather)\n",
    "flight_12 <- flights %>%\n",
    "  select(tailnum, dest, origin, flight) %>%\n",
    "  slice_sample(n = 3) %>%\n",
    "  pivot_longer(cols = c(tailnum, dest, origin), names_to = \"variable\", values_to = \"value\")\n",
    "head(flight_12)\n"
   ]
  }
 ],
 "metadata": {
  "kernelspec": {
   "display_name": "R",
   "language": "R",
   "name": "ir"
  },
  "language_info": {
   "codemirror_mode": "r",
   "file_extension": ".r",
   "mimetype": "text/x-r-source",
   "name": "R",
   "pygments_lexer": "r",
   "version": "4.4.2"
  }
 },
 "nbformat": 4,
 "nbformat_minor": 5
}
